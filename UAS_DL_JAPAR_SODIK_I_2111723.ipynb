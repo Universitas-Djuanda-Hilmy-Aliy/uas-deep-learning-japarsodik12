{
  "nbformat": 4,
  "nbformat_minor": 0,
  "metadata": {
    "colab": {
      "private_outputs": true,
      "provenance": []
    },
    "kernelspec": {
      "name": "python3",
      "display_name": "Python 3"
    },
    "language_info": {
      "name": "python"
    }
  },
  "cells": [
    {
      "cell_type": "markdown",
      "source": [
        "**Nama : Japar Sodik** <BR>\n",
        "**NIM  : I.2111723**"
      ],
      "metadata": {
        "id": "xRFV_quRjQxN"
      }
    },
    {
      "cell_type": "code",
      "source": [
        "# 2. Code\n",
        "import matplotlib.pyplot as plt\n",
        "import tensorflow as tf\n",
        "from tensorflow.keras.datasets import cifar100\n",
        "import numpy as np\n",
        "import random"
      ],
      "metadata": {
        "id": "uJeoZmqWeRm7"
      },
      "execution_count": null,
      "outputs": []
    },
    {
      "cell_type": "code",
      "source": [
        "# 3.\n",
        "(x_train, x_label), (y_test, y_label) = cifar100.load_data(label_mode='fine')\n"
      ],
      "metadata": {
        "id": "fhIrrH5ReXx4"
      },
      "execution_count": null,
      "outputs": []
    },
    {
      "cell_type": "code",
      "source": [
        "# 4.\n",
        "num_train_samples = len(x_label)\n",
        "num_test_samples = len(y_label)"
      ],
      "metadata": {
        "id": "EfHfUHYqemsx"
      },
      "execution_count": null,
      "outputs": []
    },
    {
      "cell_type": "code",
      "source": [
        "model_cnn.compile(optimizer=tf.keras.optimizers.Adam(learning_rate=0.01),\n",
        "                  loss='sparse_categorical_crossentropy',\n",
        "                  metrics=['accuracy'])\n",
        "\n",
        "model_cnn.fit(x_train_normalized, x_label, epochs=10, batch_size=256)"
      ],
      "metadata": {
        "id": "_zPWiw60fjsO"
      },
      "execution_count": null,
      "outputs": []
    },
    {
      "cell_type": "code",
      "source": [
        "# 6.\n",
        "\n",
        "superclass_name = 'fish'\n",
        "indeks_superclass = {\"fish\": 3}\n",
        "\n",
        "plt.figure(figsize=(15, 3))\n",
        "for i, (nama_kelas, nama_indeks) in enumerate(indeks_superclass.items()):\n",
        "    indeks = np.where(x_label.flatten() == nama_indeks)[0][0]\n",
        "    plt.subplot(1, len(indeks_superclass), i + 1)\n",
        "    plt.imshow(x_train[indeks])\n",
        "    plt.title(nama_kelas)\n",
        "    plt.axis(\"off\")\n",
        "\n",
        "    num_images = len(np.where(x_label.flatten() == nama_indeks)[0])\n",
        "    image_size = x_train[indeks].shape\n",
        "    print(f\"Class: {nama_kelas}, Num Images: {num_images}, Image Size: {image_size}\")\n",
        "\n",
        "plt.show()"
      ],
      "metadata": {
        "id": "keGEiHCAef3u"
      },
      "execution_count": null,
      "outputs": []
    },
    {
      "cell_type": "code",
      "source": [
        "# 7.\n",
        "x_train_normalized = x_train / 255.0\n",
        "y_test_normalized = y_test / 255.0"
      ],
      "metadata": {
        "id": "1Y6bS8_zesDL"
      },
      "execution_count": null,
      "outputs": []
    },
    {
      "cell_type": "code",
      "source": [
        "# 8.\n",
        "model_cnn = tf.keras.Sequential([\n",
        "    tf.keras.layers.Conv2D(32, (3, 3), activation='relu', input_shape=(32, 32, 3)),\n",
        "    tf.keras.layers.MaxPooling2D((2, 2)),\n",
        "    tf.keras.layers.Flatten(),\n",
        "    tf.keras.layers.Dense(128, activation='relu'),\n",
        "    tf.keras.layers.Dense(100, activation='softmax')\n",
        "])"
      ],
      "metadata": {
        "id": "iWWtcgfee1dx"
      },
      "execution_count": null,
      "outputs": []
    },
    {
      "cell_type": "code",
      "source": [
        "# 9.\n",
        "model_rcnn = tf.keras.Sequential([\n",
        "    tf.keras.layers.Reshape((32, 32, 3), input_shape=(32, 32, 3)),\n",
        "    tf.keras.layers.Conv2D(32, (3, 3), activation='relu'),\n",
        "    tf.keras.layers.MaxPooling2D((2, 2)),\n",
        "    tf.keras.layers.Flatten(),\n",
        "    tf.keras.layers.Dense(128, activation='relu'),\n",
        "    tf.keras.layers.Dense(100, activation='softmax')\n",
        "])"
      ],
      "metadata": {
        "id": "YFFkjjZle5Yx"
      },
      "execution_count": null,
      "outputs": []
    },
    {
      "cell_type": "markdown",
      "source": [
        "## 10. Penjelasan Mengenai Lapisan (Layer) yang Digunakan pada CNN dan RCNN\n",
        "\n",
        "**CNN (Convolutional Neural Network) Layer:**\n",
        "1. Conv2D: Lapisan konvolusi dengan 32 filter dan kernel (3, 3), menggunakan aktivasi ReLU.\n",
        "2. MaxPooling2D: Lapisan max pooling dengan ukuran pool (2, 2).\n",
        "3. Flatten: Lapisan flatten untuk mengubah output 2D menjadi vektor 1D.\n",
        "4. Dense: Lapisan fully connected dengan 128 neuron, menggunakan aktivasi ReLU.\n",
        "5. Dense: Lapisan output dengan 100 neuron (asumsi 100 kelas pada CIFAR-100), menggunakan aktivasi softmax.\n",
        "\n",
        "**RCNN (Reshape + CNN) Layer:**\n",
        "1. Reshape: Lapisan reshape untuk mengubah input menjadi bentuk (32, 32, 3).\n",
        "2. Conv2D: Lapisan konvolusi dengan 32 filter dan kernel (3, 3), menggunakan aktivasi ReLU.\n",
        "3. MaxPooling2D: Lapisan max pooling dengan ukuran pool (2, 2).\n",
        "4. Flatten: Lapisan flatten untuk mengubah output 2D menjadi vektor 1D.\n",
        "5. Dense: Lapisan fully connected dengan 128 neuron, menggunakan aktivasi ReLU.\n",
        "6. Dense: Lapisan output dengan 100 neuron (asumsi 100 kelas pada CIFAR-100), menggunakan aktivasi softmax."
      ],
      "metadata": {
        "id": "o6h-fUdbe8pc"
      }
    },
    {
      "cell_type": "code",
      "source": [
        "model_cnn.compile(optimizer=tf.keras.optimizers.Adam(learning_rate=0.01),\n",
        "                  loss='sparse_categorical_crossentropy',\n",
        "                  metrics=['accuracy'])\n",
        "\n",
        "model_cnn.fit(x_train_normalized, x_label, epochs=10, batch_size=256)"
      ],
      "metadata": {
        "id": "akV6zaVQfRwZ"
      },
      "execution_count": null,
      "outputs": []
    },
    {
      "cell_type": "code",
      "source": [
        "# 12.\n",
        "model_rcnn.compile(optimizer=tf.keras.optimizers.Adam(learning_rate=0.01),\n",
        "                   loss='sparse_categorical_crossentropy',\n",
        "                   metrics=['accuracy'])\n",
        "\n",
        "model_rcnn.fit(x_train_normalized, x_label, epochs=5, batch_size=256)"
      ],
      "metadata": {
        "id": "idvY62qWf3bs"
      },
      "execution_count": null,
      "outputs": []
    },
    {
      "cell_type": "code",
      "source": [
        "# 13.\n",
        "model_cnn.save('model_cnn.h5')\n",
        "model_rcnn.save('model_rcnn.h5')\n",
        "\n",
        "\n",
        "loaded_model_cnn = tf.keras.models.load_model('model_cnn.h5')\n",
        "loaded_model_rcnn = tf.keras.models.load_model('model_rcnn.h5')"
      ],
      "metadata": {
        "id": "vXuXh4FEf9z9"
      },
      "execution_count": null,
      "outputs": []
    },
    {
      "cell_type": "code",
      "source": [
        "# 14.\n",
        "plt.plot(model_cnn.history.history['accuracy'], label='CNN Training Accuracy')\n",
        "plt.xlabel('Epoch')\n",
        "plt.ylabel('Accuracy')\n",
        "plt.legend()\n",
        "plt.show()"
      ],
      "metadata": {
        "id": "pfK8rsddgCQK"
      },
      "execution_count": null,
      "outputs": []
    },
    {
      "cell_type": "code",
      "source": [
        "# 15.\n",
        "plt.plot(model_rcnn.history.history['accuracy'], label='RCNN Training Accuracy')\n",
        "plt.xlabel('Epoch')\n",
        "plt.ylabel('Accuracy')\n",
        "plt.legend()\n",
        "plt.show()"
      ],
      "metadata": {
        "id": "IC23MJN8gF4f"
      },
      "execution_count": null,
      "outputs": []
    },
    {
      "cell_type": "markdown",
      "source": [
        "## 16. Kesimpulan Perbandingan Model Pertama dan Model Kedua\n",
        "\n",
        "Kesimpulandari hasil plot accuracy pada data Model pertama (CNN) Memiliki performa yang lebih baik dibandingkan dengan Model kedua (RCNN)."
      ],
      "metadata": {
        "id": "otLFdI81gOD2"
      }
    }
  ]
}
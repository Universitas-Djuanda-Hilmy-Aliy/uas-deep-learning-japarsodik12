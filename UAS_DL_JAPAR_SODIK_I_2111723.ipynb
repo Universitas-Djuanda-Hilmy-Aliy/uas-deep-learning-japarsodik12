{
  "nbformat": 4,
  "nbformat_minor": 0,
  "metadata": {
    "colab": {
      "private_outputs": true,
      "provenance": []
    },
    "kernelspec": {
      "name": "python3",
      "display_name": "Python 3"
    },
    "language_info": {
      "name": "python"
    }
  },
  "cells": [
    {
      "cell_type": "markdown",
      "source": [
        "**Nama : Japar Sodik** <BR>\n",
        "**NIM  : I.2111723**"
      ],
      "metadata": {
        "id": "xRFV_quRjQxN"
      }
    },
    {
      "cell_type": "code",
      "source": [
        "# 2. Code\n",
        "import matplotlib.pyplot as plt\n",
        "import tensorflow as tf\n",
        "from tensorflow.keras.datasets import cifar100\n",
        "import numpy as np\n",
        "import random"
      ],
      "metadata": {
        "id": "uJeoZmqWeRm7"
      },
      "execution_count": null,
      "outputs": []
    },
    {
      "cell_type": "code",
      "source": [
        "# 3.\n",
        "(x_train, x_label), (y_test, y_label) = cifar100.load_data(label_mode='fine')\n"
      ],
      "metadata": {
        "id": "fhIrrH5ReXx4"
      },
      "execution_count": null,
      "outputs": []
    },
    {
      "cell_type": "code",
      "source": [
        "#nama superclass\n",
        "indeks_fish = {\n",
        "    \"aquarium fish\": 1,\n",
        "    \"flatfish\": 32,\n",
        "    \"ray\": 67,\n",
        "    \"shark\": 73,\n",
        "    \"trout\": 91\n",
        "}"
      ],
      "metadata": {
        "id": "_9RJPdvkkx6E"
      },
      "execution_count": null,
      "outputs": []
    },
    {
      "cell_type": "code",
      "source": [
        "print(len(x_label), len(x_train))"
      ],
      "metadata": {
        "id": "H7vMD2LylauX"
      },
      "execution_count": null,
      "outputs": []
    },
    {
      "cell_type": "code",
      "source": [
        "plt.figure(figsize=(20,5))\n",
        "for i, (nama_kelas,nama_indeks) in enumerate (indeks_fish.items()):\n",
        "  indeks = np.where(x_label.flatten() == nama_indeks)[0][0]\n",
        "  plt.subplot(1, len(indeks_fish), i + 1)\n",
        "  plt.imshow(x_train[indeks])\n",
        "  plt.title(nama_kelas)\n",
        "  plt.axis(\"off\")\n",
        "plt.show()"
      ],
      "metadata": {
        "id": "n3WlT0UHlgoF"
      },
      "execution_count": null,
      "outputs": []
    },
    {
      "cell_type": "code",
      "source": [
        "indeks2_fish = [1, 32, 67, 73, 91]\n",
        "\n",
        "x_train_baru =[]\n",
        "x_label_baru =[]\n",
        "\n",
        "for i in indeks2_fish:\n",
        "  indeks = np.where(x_label == i)[0]\n",
        "  x_train_baru.append(x_train[indeks])\n",
        "  x_label_baru.append(x_label[indeks])\n",
        "\n",
        "x_train_baru = np.concatenate(x_train_baru) #tujuannya untuk menggabungkan dua atau lebih array\n",
        "x_label_baru = np.concatenate(x_label_baru)"
      ],
      "metadata": {
        "id": "GA0zT9FBlzTc"
      },
      "execution_count": null,
      "outputs": []
    },
    {
      "cell_type": "code",
      "source": [
        "x_train_baru.shape"
      ],
      "metadata": {
        "id": "ZbYklWvgl9CJ"
      },
      "execution_count": null,
      "outputs": []
    },
    {
      "cell_type": "code",
      "source": [
        "x_label_baru.shape"
      ],
      "metadata": {
        "id": "vrTiarDdmALq"
      },
      "execution_count": null,
      "outputs": []
    },
    {
      "cell_type": "code",
      "source": [
        "indeks2_fish = [1, 32, 67, 73, 91]\n",
        "\n",
        "y_test_baru =[]\n",
        "y_label_baru =[]\n",
        "\n",
        "for i in indeks2_fish:\n",
        "  indeks = np.where(y_label == i)[0]\n",
        "  y_test_baru.append(y_test[indeks])\n",
        "  y_label_baru.append(y_label[indeks])\n",
        "\n",
        "y_test_baru = np.concatenate(y_test_baru) #tujuannya untuk menggabungkan dua atau lebih array\n",
        "y_label_baru = np.concatenate(y_label_baru)"
      ],
      "metadata": {
        "id": "uyvBfvqBmCya"
      },
      "execution_count": null,
      "outputs": []
    },
    {
      "cell_type": "code",
      "source": [
        "y_test_baru.shape"
      ],
      "metadata": {
        "id": "a3kMTDzdmIeI"
      },
      "execution_count": null,
      "outputs": []
    },
    {
      "cell_type": "code",
      "source": [
        "y_label_baru.shape"
      ],
      "metadata": {
        "id": "euK8gf0ImKeG"
      },
      "execution_count": null,
      "outputs": []
    },
    {
      "cell_type": "code",
      "source": [
        "# 4.\n",
        "num_train_samples = len(x_label)\n",
        "num_test_samples = len(y_label)"
      ],
      "metadata": {
        "id": "EfHfUHYqemsx"
      },
      "execution_count": null,
      "outputs": []
    },
    {
      "cell_type": "code",
      "source": [
        "model_cnn.compile(optimizer=tf.keras.optimizers.Adam(learning_rate=0.01),\n",
        "                  loss='sparse_categorical_crossentropy',\n",
        "                  metrics=['accuracy'])\n",
        "\n",
        "model_cnn.fit(x_train_normalized, x_label, epochs=10, batch_size=256)"
      ],
      "metadata": {
        "id": "_zPWiw60fjsO"
      },
      "execution_count": null,
      "outputs": []
    },
    {
      "cell_type": "code",
      "source": [
        "# 7.\n",
        "x_train_normalized = x_train / 255.0\n",
        "y_test_normalized = y_test / 255.0"
      ],
      "metadata": {
        "id": "1Y6bS8_zesDL"
      },
      "execution_count": null,
      "outputs": []
    },
    {
      "cell_type": "code",
      "source": [
        "# 8.\n",
        "model_cnn = tf.keras.Sequential([\n",
        "    tf.keras.layers.Conv2D(32, (3, 3), activation='relu', input_shape=(32, 32, 3)),\n",
        "    tf.keras.layers.MaxPooling2D((2, 2)),\n",
        "    tf.keras.layers.Flatten(),\n",
        "    tf.keras.layers.Dense(128, activation='relu'),\n",
        "    tf.keras.layers.Dense(100, activation='softmax')\n",
        "])"
      ],
      "metadata": {
        "id": "iWWtcgfee1dx"
      },
      "execution_count": null,
      "outputs": []
    },
    {
      "cell_type": "code",
      "source": [
        "# 9.\n",
        "model_rcnn = tf.keras.Sequential([\n",
        "    tf.keras.layers.Reshape((32, 32, 3), input_shape=(32, 32, 3)),\n",
        "    tf.keras.layers.Conv2D(32, (3, 3), activation='relu'),\n",
        "    tf.keras.layers.MaxPooling2D((2, 2)),\n",
        "    tf.keras.layers.Flatten(),\n",
        "    tf.keras.layers.Dense(128, activation='relu'),\n",
        "    tf.keras.layers.Dense(100, activation='softmax')\n",
        "])"
      ],
      "metadata": {
        "id": "YFFkjjZle5Yx"
      },
      "execution_count": null,
      "outputs": []
    },
    {
      "cell_type": "markdown",
      "source": [
        "## 10. Penjelasan Mengenai Lapisan (Layer) yang Digunakan pada CNN dan RCNN\n",
        "\n",
        "**CNN (Convolutional Neural Network) Layer:**\n",
        "1. Conv2D: Lapisan konvolusi dengan 32 filter dan kernel (3, 3), menggunakan aktivasi ReLU.\n",
        "2. MaxPooling2D: Lapisan max pooling dengan ukuran pool (2, 2).\n",
        "3. Flatten: Lapisan flatten untuk mengubah output 2D menjadi vektor 1D.\n",
        "4. Dense: Lapisan fully connected dengan 128 neuron, menggunakan aktivasi ReLU.\n",
        "5. Dense: Lapisan output dengan 100 neuron (asumsi 100 kelas pada CIFAR-100), menggunakan aktivasi softmax.\n",
        "\n",
        "**RCNN (Reshape + CNN) Layer:**\n",
        "1. Reshape: Lapisan reshape untuk mengubah input menjadi bentuk (32, 32, 3).\n",
        "2. Conv2D: Lapisan konvolusi dengan 32 filter dan kernel (3, 3), menggunakan aktivasi ReLU.\n",
        "3. MaxPooling2D: Lapisan max pooling dengan ukuran pool (2, 2).\n",
        "4. Flatten: Lapisan flatten untuk mengubah output 2D menjadi vektor 1D.\n",
        "5. Dense: Lapisan fully connected dengan 128 neuron, menggunakan aktivasi ReLU.\n",
        "6. Dense: Lapisan output dengan 100 neuron (asumsi 100 kelas pada CIFAR-100), menggunakan aktivasi softmax."
      ],
      "metadata": {
        "id": "o6h-fUdbe8pc"
      }
    },
    {
      "cell_type": "code",
      "source": [
        "model_cnn.compile(optimizer=tf.keras.optimizers.Adam(learning_rate=0.01),\n",
        "                  loss='sparse_categorical_crossentropy',\n",
        "                  metrics=['accuracy'])\n",
        "\n",
        "model_cnn.fit(x_train_normalized, x_label, epochs=10, batch_size=256)"
      ],
      "metadata": {
        "id": "akV6zaVQfRwZ"
      },
      "execution_count": null,
      "outputs": []
    },
    {
      "cell_type": "code",
      "source": [
        "# 12.\n",
        "model_rcnn.compile(optimizer=tf.keras.optimizers.Adam(learning_rate=0.01),\n",
        "                   loss='sparse_categorical_crossentropy',\n",
        "                   metrics=['accuracy'])\n",
        "\n",
        "model_rcnn.fit(x_train_normalized, x_label, epochs=5, batch_size=256)"
      ],
      "metadata": {
        "id": "idvY62qWf3bs"
      },
      "execution_count": null,
      "outputs": []
    },
    {
      "cell_type": "code",
      "source": [
        "# 13.\n",
        "model_cnn.save('model_cnn.h5')\n",
        "model_rcnn.save('model_rcnn.h5')\n",
        "\n",
        "\n",
        "loaded_model_cnn = tf.keras.models.load_model('model_cnn.h5')\n",
        "loaded_model_rcnn = tf.keras.models.load_model('model_rcnn.h5')"
      ],
      "metadata": {
        "id": "vXuXh4FEf9z9"
      },
      "execution_count": null,
      "outputs": []
    },
    {
      "cell_type": "code",
      "source": [
        "# 14.\n",
        "plt.plot(model_cnn.history.history['accuracy'], label='CNN Training Accuracy')\n",
        "plt.xlabel('Epoch')\n",
        "plt.ylabel('Accuracy')\n",
        "plt.legend()\n",
        "plt.show()"
      ],
      "metadata": {
        "id": "pfK8rsddgCQK"
      },
      "execution_count": null,
      "outputs": []
    },
    {
      "cell_type": "code",
      "source": [
        "# 15.\n",
        "plt.plot(model_rcnn.history.history['accuracy'], label='RCNN Training Accuracy')\n",
        "plt.xlabel('Epoch')\n",
        "plt.ylabel('Accuracy')\n",
        "plt.legend()\n",
        "plt.show()"
      ],
      "metadata": {
        "id": "IC23MJN8gF4f"
      },
      "execution_count": null,
      "outputs": []
    },
    {
      "cell_type": "markdown",
      "source": [
        "## 16. Kesimpulan Perbandingan Model Pertama dan Model Kedua\n",
        "\n",
        "Kesimpulandari hasil plot accuracy pada data Model pertama (CNN) Memiliki performa yang lebih baik dibandingkan dengan Model kedua (RCNN)."
      ],
      "metadata": {
        "id": "otLFdI81gOD2"
      }
    }
  ]
}